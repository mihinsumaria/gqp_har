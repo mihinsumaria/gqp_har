{
 "cells": [
  {
   "cell_type": "code",
   "execution_count": 1,
   "metadata": {},
   "outputs": [],
   "source": [
    "import pandas as pd\n",
    "import numpy as np\n",
    "import glob\n",
    "from multiprocessing import Pool\n",
    "from collections import Counter\n",
    "from sklearn.metrics import classification_report\n",
    "from sklearn.utils import class_weight\n",
    "from sklearn.model_selection import train_test_split\n",
    "from sklearn.preprocessing import normalize\n",
    "\n",
    "import seaborn as sns\n",
    "from IPython.display import Image"
   ]
  },
  {
   "cell_type": "code",
   "execution_count": 2,
   "metadata": {},
   "outputs": [],
   "source": [
    "def get_confusion_matrix(Y, Y_hat, label_mapping=None):\n",
    "    if label_mapping is not None:\n",
    "        report = classification_report(\n",
    "            y_true=Y,\n",
    "#             y_true=Y.argmax(axis=1),\n",
    "            y_pred=Y_hat.argmax(axis=1),\n",
    "            labels=list(label_mapping.keys()),\n",
    "            target_names=list(label_mapping.values())\n",
    "        )\n",
    "    else:\n",
    "        report = classification_report(\n",
    "            y_true=Y,\n",
    "#             y_true=Y.argmax(axis=1),\n",
    "            y_pred=Y_hat.argmax(axis=1),\n",
    "        )\n",
    "    return report"
   ]
  },
  {
   "cell_type": "code",
   "execution_count": 3,
   "metadata": {},
   "outputs": [],
   "source": [
    "def get_class_weights(y_train):\n",
    "    class_weights = class_weight.compute_class_weight('balanced',\n",
    "                                                     np.unique(y_train.flatten()),\n",
    "                                                     y_train.flatten())\n",
    "    class_weights = dict(zip(np.unique(y_train.flatten()), class_weights))\n",
    "    return class_weights"
   ]
  },
  {
   "cell_type": "code",
   "execution_count": 4,
   "metadata": {},
   "outputs": [],
   "source": [
    "def read_csv(file_path):\n",
    "        csv_data_ = pd.read_csv(file_path, compression=\"gzip\", header=None)\n",
    "        return csv_data_\n",
    "def get_activity_data(path_glob, n_files=5):\n",
    "    file_list = glob.glob(path_glob)\n",
    "\n",
    "    p = Pool()\n",
    "    df_list = p.map(read_csv, file_list[:n_files])\n",
    "    p.close()\n",
    "    \n",
    "    return pd.concat(df_list)"
   ]
  },
  {
   "cell_type": "code",
   "execution_count": 5,
   "metadata": {},
   "outputs": [
    {
     "name": "stdout",
     "output_type": "stream",
     "text": [
      "CPU times: user 4.5 s, sys: 8.73 s, total: 13.2 s\n",
      "Wall time: 15min 10s\n"
     ]
    }
   ],
   "source": [
    "%%time\n",
    "raw_data_ = get_activity_data(\"../../wpiukb/RawData/activity/part-*.gz\", n_files=5)"
   ]
  },
  {
   "cell_type": "code",
   "execution_count": 6,
   "metadata": {},
   "outputs": [],
   "source": [
    "filtered_raw_data_ = raw_data_[(raw_data_.apply(lambda x: sum(x == -99), axis=1) == 0)]"
   ]
  },
  {
   "cell_type": "code",
   "execution_count": 7,
   "metadata": {},
   "outputs": [
    {
     "data": {
      "text/plain": [
       "(2736, 120961)"
      ]
     },
     "execution_count": 7,
     "metadata": {},
     "output_type": "execute_result"
    }
   ],
   "source": [
    "filtered_raw_data_.shape"
   ]
  },
  {
   "cell_type": "code",
   "execution_count": 8,
   "metadata": {},
   "outputs": [
    {
     "name": "stdout",
     "output_type": "stream",
     "text": [
      "CPU times: user 1.75 s, sys: 131 ms, total: 1.89 s\n",
      "Wall time: 2.02 s\n"
     ]
    }
   ],
   "source": [
    "%%time\n",
    "pheno_data_ = pd.read_csv(\"../../wpiukb/RawData/pheno/activitypheno.csv\")\n",
    "min(pheno_data_.userId), max(pheno_data_.userId)"
   ]
  },
  {
   "cell_type": "code",
   "execution_count": 9,
   "metadata": {},
   "outputs": [],
   "source": [
    "considered_pheno = ['userId', '1200', 'age']\n",
    "filtered_pheno_data_ = pheno_data_[pheno_data_[considered_pheno].apply(\n",
    "    lambda x: not(sum(x.isnull())>0), axis=1)\n",
    "           ][considered_pheno]"
   ]
  },
  {
   "cell_type": "code",
   "execution_count": 14,
   "metadata": {},
   "outputs": [
    {
     "data": {
      "text/plain": [
       "Counter({1.0: 24533, 2.0: 45692, 3.0: 25788})"
      ]
     },
     "execution_count": 14,
     "metadata": {},
     "output_type": "execute_result"
    }
   ],
   "source": [
    "Counter(filtered_pheno_data_['1200'])"
   ]
  },
  {
   "cell_type": "code",
   "execution_count": 15,
   "metadata": {},
   "outputs": [],
   "source": [
    "mapping_1200 = {\n",
    "    0  : \"Never\",\n",
    "    1  : \"Sometimes\",\n",
    "    2  : \"Usually\",\n",
    "}"
   ]
  },
  {
   "cell_type": "code",
   "execution_count": 16,
   "metadata": {},
   "outputs": [],
   "source": [
    "all_data_ = pd.merge(filtered_raw_data_, filtered_pheno_data_, how='inner', right_on='userId', left_on=0)"
   ]
  },
  {
   "cell_type": "code",
   "execution_count": 17,
   "metadata": {},
   "outputs": [
    {
     "data": {
      "text/plain": [
       "(2734, 120964)"
      ]
     },
     "execution_count": 17,
     "metadata": {},
     "output_type": "execute_result"
    }
   ],
   "source": [
    "all_data_.shape"
   ]
  },
  {
   "cell_type": "code",
   "execution_count": 18,
   "metadata": {},
   "outputs": [
    {
     "data": {
      "text/plain": [
       "120960"
      ]
     },
     "execution_count": 18,
     "metadata": {},
     "output_type": "execute_result"
    }
   ],
   "source": [
    "total_steps = int(7 * 24 * 60 * (60 / 5))\n",
    "total_steps"
   ]
  },
  {
   "cell_type": "code",
   "execution_count": 19,
   "metadata": {},
   "outputs": [],
   "source": [
    "X_data = all_data_.iloc[:,1:total_steps+1].values\n",
    "Y_data = all_data_.iloc[:,-2:].values"
   ]
  },
  {
   "cell_type": "code",
   "execution_count": 20,
   "metadata": {},
   "outputs": [
    {
     "data": {
      "text/plain": [
       "((2734, 120960), (2734, 2))"
      ]
     },
     "execution_count": 20,
     "metadata": {},
     "output_type": "execute_result"
    }
   ],
   "source": [
    "X_data.shape, Y_data.shape"
   ]
  },
  {
   "cell_type": "code",
   "execution_count": 21,
   "metadata": {},
   "outputs": [],
   "source": [
    "X_reshaped = np.reshape(np.apply_along_axis(lambda x: np.split(x, 7), 1, X_data), (-1, total_steps//7))"
   ]
  },
  {
   "cell_type": "code",
   "execution_count": 22,
   "metadata": {},
   "outputs": [],
   "source": [
    "Y_reshaped = np.repeat(Y_data, 7, axis=0)"
   ]
  },
  {
   "cell_type": "code",
   "execution_count": 23,
   "metadata": {},
   "outputs": [],
   "source": [
    "from sklearn.preprocessing import StandardScaler\n",
    "scaler = StandardScaler()\n",
    "X_reshaped = scaler.fit_transform(X_reshaped)"
   ]
  },
  {
   "cell_type": "code",
   "execution_count": 24,
   "metadata": {},
   "outputs": [
    {
     "name": "stderr",
     "output_type": "stream",
     "text": [
      "/home/ec2-user/anaconda3/lib/python3.6/site-packages/matplotlib/axes/_axes.py:6462: UserWarning: The 'normed' kwarg is deprecated, and has been replaced by the 'density' kwarg.\n",
      "  warnings.warn(\"The 'normed' kwarg is deprecated, and has been \"\n"
     ]
    },
    {
     "data": {
      "text/plain": [
       "<matplotlib.axes._subplots.AxesSubplot at 0x7fed2ca69518>"
      ]
     },
     "execution_count": 24,
     "metadata": {},
     "output_type": "execute_result"
    },
    {
     "data": {
      "image/png": "[encoded data removed]",
      "text/plain": [
       "<Figure size 432x288 with 1 Axes>"
      ]
     },
     "metadata": {},
     "output_type": "display_data"
    }
   ],
   "source": [
    "sns.distplot(X_reshaped.flatten(), kde=False)"
   ]
  },
  {
   "cell_type": "code",
   "execution_count": null,
   "metadata": {},
   "outputs": [],
   "source": [
    "# def scale_X(X):\n",
    "#     std_ = np.std(X_reshaped.flatten(order='K'))\n",
    "#     mean_ = np.mean(X_reshaped.flatten(order='K'))\n",
    "#     print(mean_, std_)\n",
    "#     scaler = lambda x: (x-mean_)/std_\n",
    "#     vfunc = np.vectorize(scaler)\n",
    "#     return vfunc(X)"
   ]
  },
  {
   "cell_type": "code",
   "execution_count": null,
   "metadata": {},
   "outputs": [],
   "source": [
    "# %%time\n",
    "# X_reshaped = scale_X(X_reshaped)"
   ]
  },
  {
   "cell_type": "code",
   "execution_count": null,
   "metadata": {},
   "outputs": [],
   "source": [
    "# %%time\n",
    "# sns.distplot(X_reshaped.flatten(order='K'), kde=False)"
   ]
  },
  {
   "cell_type": "code",
   "execution_count": null,
   "metadata": {},
   "outputs": [],
   "source": []
  },
  {
   "cell_type": "code",
   "execution_count": null,
   "metadata": {},
   "outputs": [],
   "source": []
  },
  {
   "cell_type": "code",
   "execution_count": 32,
   "metadata": {},
   "outputs": [],
   "source": [
    "X_reshaped = np.expand_dims(X_reshaped, -1)\n",
    "Y_reshaped = np.expand_dims(Y_reshaped, -1)"
   ]
  },
  {
   "cell_type": "code",
   "execution_count": null,
   "metadata": {},
   "outputs": [],
   "source": []
  },
  {
   "cell_type": "code",
   "execution_count": 79,
   "metadata": {},
   "outputs": [],
   "source": [
    "X_train, X_test, Y_train, Y_test = train_test_split(X_reshaped.astype('float32'), \n",
    "                                                      Y_reshaped.astype('float32'),\n",
    "                                                      test_size=0.2,\n",
    "                                                      random_state=123)"
   ]
  },
  {
   "cell_type": "code",
   "execution_count": 82,
   "metadata": {},
   "outputs": [
    {
     "data": {
      "text/plain": [
       "((15310, 17280, 1), (15310, 2, 1), (3828, 17280, 1), (3828, 2, 1))"
      ]
     },
     "execution_count": 82,
     "metadata": {},
     "output_type": "execute_result"
    }
   ],
   "source": [
    "X_train.shape, Y_train.shape, X_test.shape, Y_test.shape"
   ]
  },
  {
   "cell_type": "code",
   "execution_count": 83,
   "metadata": {},
   "outputs": [
    {
     "data": {
      "text/plain": [
       "(array([[[ 2.],\n",
       "         [64.]]], dtype=float32), array([[[ 3.],\n",
       "         [65.]]], dtype=float32))"
      ]
     },
     "execution_count": 83,
     "metadata": {},
     "output_type": "execute_result"
    }
   ],
   "source": [
    "Y_train[:1], Y_test[:1]"
   ]
  },
  {
   "cell_type": "code",
   "execution_count": 84,
   "metadata": {},
   "outputs": [],
   "source": [
    "y_train_1200 = Y_train[:, 0] -1\n",
    "y_test_1200  = Y_test[:, 0] -1\n",
    "# y_train_1180 = Y_train[:, 1]\n",
    "# y_test_1180  = Y_test[:, 1]\n",
    "y_train_age  = Y_train[:, 1]\n",
    "y_test_age   = Y_test[:, 1]"
   ]
  },
  {
   "cell_type": "code",
   "execution_count": 37,
   "metadata": {},
   "outputs": [
    {
     "data": {
      "text/plain": [
       "(array([[2.]], dtype=float32), array([[66.]], dtype=float32))"
      ]
     },
     "execution_count": 37,
     "metadata": {},
     "output_type": "execute_result"
    }
   ],
   "source": [
    "y_train_1200[:1], y_train_age[:1]"
   ]
  },
  {
   "cell_type": "code",
   "execution_count": 30,
   "metadata": {},
   "outputs": [
    {
     "name": "stderr",
     "output_type": "stream",
     "text": [
      "Using TensorFlow backend.\n"
     ]
    }
   ],
   "source": [
    "import keras\n",
    "from keras.models import Sequential, Model\n",
    "from keras.layers import Input, Dense, Dropout, Activation, Flatten, BatchNormalization\n",
    "from keras.layers import SeparableConv1D, Conv1D, MaxPooling1D\n",
    "from keras.utils.vis_utils import plot_model"
   ]
  },
  {
   "cell_type": "code",
   "execution_count": 31,
   "metadata": {},
   "outputs": [
    {
     "data": {
      "text/plain": [
       "(17280,)"
      ]
     },
     "execution_count": 31,
     "metadata": {},
     "output_type": "execute_result"
    }
   ],
   "source": [
    "X_train.shape[1:]"
   ]
  },
  {
   "cell_type": "code",
   "execution_count": null,
   "metadata": {},
   "outputs": [],
   "source": [
    "# min(X_train.flatten()), max(X_train.flatten())"
   ]
  },
  {
   "cell_type": "code",
   "execution_count": null,
   "metadata": {},
   "outputs": [],
   "source": [
    "# import seaborn as sns\n",
    "# sns.distplot((X_train.flatten()), kde=False)"
   ]
  },
  {
   "cell_type": "code",
   "execution_count": 148,
   "metadata": {},
   "outputs": [],
   "source": [
    "# CNN 1 branch\n",
    "kernel_size = 12 * 15  #30 min convolution\n",
    "max_pool_size = 3\n",
    "dropout_rate = 0.3\n",
    "num_classes = len(np.unique(y_train_1200))\n",
    "\n",
    "input_sample_size = X_train.shape[1:]\n",
    "\n",
    "model = Sequential()\n",
    "model.add(Conv1D(64, kernel_size, padding='same', input_shape=input_sample_size))\n",
    "model.add(Activation('relu'))\n",
    "model.add(BatchNormalization(momentum=0.8))\n",
    "model.add(MaxPooling1D(pool_size= max_pool_size))\n",
    "model.add(Dropout(dropout_rate))\n",
    "\n",
    "model.add(Conv1D(32, kernel_size, padding='same'))\n",
    "model.add(Activation('relu'))\n",
    "model.add(BatchNormalization(momentum=0.8))\n",
    "model.add(MaxPooling1D(pool_size=max_pool_size))\n",
    "model.add(Dropout(dropout_rate))\n",
    "\n",
    "model.add(Flatten())\n",
    "# model.add(Dense(32))\n",
    "# model.add(Activation('relu'))\n",
    "model.add(BatchNormalization(momentum=0.8))\n",
    "# model.add(Dropout(dropout_rate))\n",
    "\n",
    "model.add(Dense(num_classes))\n",
    "model.add(Activation('softmax'))\n",
    "\n",
    "# model.add(Dense(1))\n",
    "# model.add(Activation('relu'))"
   ]
  },
  {
   "cell_type": "code",
   "execution_count": 149,
   "metadata": {},
   "outputs": [
    {
     "data": {
      "text/plain": [
       "(15310, 17280, 1)"
      ]
     },
     "execution_count": 149,
     "metadata": {},
     "output_type": "execute_result"
    }
   ],
   "source": [
    "X_train.shape"
   ]
  },
  {
   "cell_type": "code",
   "execution_count": 150,
   "metadata": {},
   "outputs": [],
   "source": [
    "# kernel_size = 12 * 15  #120 min convolution\n",
    "# max_pool_size = 3\n",
    "# dropout_rate = 0.3\n",
    "# num_classes = len(np.unique(y_train_1200))\n",
    "\n",
    "# input_sample_size = X_train.shape[1:]\n",
    "# inputs = Input(shape=input_sample_size, name='main_input')\n",
    "\n",
    "# main_branch = Conv1D(64, kernel_size=kernel_size, padding=\"same\")(inputs)\n",
    "# main_branch = Activation(\"relu\")(main_branch)\n",
    "# main_branch = BatchNormalization(momentum=0.8)(main_branch)\n",
    "# main_branch = MaxPooling1D(pool_size=max_pool_size)(main_branch)\n",
    "# main_branch = Dropout(dropout_rate)(main_branch)\n",
    "\n",
    "# main_branch = Conv1D(32, kernel_size=kernel_size, padding=\"same\")(main_branch)\n",
    "# main_branch = Activation(\"relu\")(main_branch)\n",
    "# main_branch = BatchNormalization(momentum=0.8)(main_branch)\n",
    "# main_branch = MaxPooling1D(pool_size=max_pool_size)(main_branch)\n",
    "# main_branch = Dropout(dropouta_rate)(main_branch)\n",
    "\n",
    "# # # main_branch = Flatten()(main_branch)\n",
    "# # main_branch = Dense(32)(main_branch)\n",
    "# # main_branch = Activation('relu')(main_branch)\n",
    "# # main_branch = Dropout(dropout_rate)(main_branch)\n",
    "\n",
    "\n",
    "# age_branch = Flatten()(main_branch)\n",
    "# age_branch = Dense(8)(age_branch)\n",
    "# age_branch = Activation('relu')(age_branch)\n",
    "# age_branch = Dropout(dropout_rate)(age_branch)\n",
    "# age_branch = Dense(1, activation='relu', name='age_output')(age_branch)\n",
    "\n",
    "# split_1200_branch = Flatten()(main_branch)\n",
    "# split_1200_branch = Dense(8)(split_1200_branch)\n",
    "# split_1200_branch = Activation('relu')(split_1200_branch)\n",
    "# split_1200_branch = Dropout(dropout_rate)(split_1200_branch)\n",
    "# split_1200_branch = Dense(num_classes, activation='softmax', name='split_1200_output')(split_1200_branch)\n",
    "\n",
    "# model = Model(inputs = inputs,\n",
    "#      outputs = [age_branch, split_1200_branch])"
   ]
  },
  {
   "cell_type": "code",
   "execution_count": 151,
   "metadata": {},
   "outputs": [],
   "source": [
    "# # Dense NN\n",
    "# dropout_rate = 0.5\n",
    "# num_classes = len(np.unique(y_train_1200))\n",
    "\n",
    "# input_sample_size = X_train.shape[1:]\n",
    "\n",
    "# model = Sequential()\n",
    "# model.add(Dense(128, input_shape=input_sample_size))\n",
    "# model.add(Activation('relu'))\n",
    "# model.add(BatchNormalization(momentum=0.8))\n",
    "# model.add(Dropout(dropout_rate))\n",
    "\n",
    "# model.add(Dense(64, input_shape=input_sample_size))\n",
    "# model.add(Activation('relu'))\n",
    "# model.add(BatchNormalization(momentum=0.8))\n",
    "# model.add(Dropout(dropout_rate))\n",
    "\n",
    "# model.add(Dense(32, input_shape=input_sample_size))\n",
    "# model.add(Activation('relu'))\n",
    "# model.add(BatchNormalization(momentum=0.8))\n",
    "# model.add(Dropout(dropout_rate))\n",
    "\n",
    "# model.add(Dense(1))\n",
    "# model.add(Activation('relu'))"
   ]
  },
  {
   "cell_type": "code",
   "execution_count": 152,
   "metadata": {},
   "outputs": [
    {
     "data": {
      "text/plain": [
       "((15310, 17280, 1), (15310, 1), (15310, 1))"
      ]
     },
     "execution_count": 152,
     "metadata": {},
     "output_type": "execute_result"
    }
   ],
   "source": [
    "X_train.shape, y_train_age.shape, y_train_1200.shape"
   ]
  },
  {
   "cell_type": "code",
   "execution_count": 153,
   "metadata": {},
   "outputs": [
    {
     "name": "stdout",
     "output_type": "stream",
     "text": [
      "_________________________________________________________________\n",
      "Layer (type)                 Output Shape              Param #   \n",
      "=================================================================\n",
      "conv1d_27 (Conv1D)           (None, 17280, 64)         11584     \n",
      "_________________________________________________________________\n",
      "activation_46 (Activation)   (None, 17280, 64)         0         \n",
      "_________________________________________________________________\n",
      "batch_normalization_23 (Batc (None, 17280, 64)         256       \n",
      "_________________________________________________________________\n",
      "max_pooling1d_27 (MaxPooling (None, 5760, 64)          0         \n",
      "_________________________________________________________________\n",
      "dropout_37 (Dropout)         (None, 5760, 64)          0         \n",
      "_________________________________________________________________\n",
      "conv1d_28 (Conv1D)           (None, 5760, 32)          368672    \n",
      "_________________________________________________________________\n",
      "activation_47 (Activation)   (None, 5760, 32)          0         \n",
      "_________________________________________________________________\n",
      "batch_normalization_24 (Batc (None, 5760, 32)          128       \n",
      "_________________________________________________________________\n",
      "max_pooling1d_28 (MaxPooling (None, 1920, 32)          0         \n",
      "_________________________________________________________________\n",
      "dropout_38 (Dropout)         (None, 1920, 32)          0         \n",
      "_________________________________________________________________\n",
      "flatten_18 (Flatten)         (None, 61440)             0         \n",
      "_________________________________________________________________\n",
      "batch_normalization_25 (Batc (None, 61440)             245760    \n",
      "_________________________________________________________________\n",
      "dense_20 (Dense)             (None, 3)                 184323    \n",
      "_________________________________________________________________\n",
      "activation_48 (Activation)   (None, 3)                 0         \n",
      "=================================================================\n",
      "Total params: 810,723\n",
      "Trainable params: 687,651\n",
      "Non-trainable params: 123,072\n",
      "_________________________________________________________________\n"
     ]
    },
    {
     "data": {
      "image/png": "[encoded data removed]",
      "text/plain": [
       "<IPython.core.display.Image object>"
      ]
     },
     "execution_count": 153,
     "metadata": {
      "image/png": {
       "height": 711,
       "width": 182
      }
     },
     "output_type": "execute_result"
    }
   ],
   "source": [
    "model.summary()\n",
    "plot_model(model)\n",
    "Image(retina=True, filename='model.png')"
   ]
  },
  {
   "cell_type": "code",
   "execution_count": 154,
   "metadata": {},
   "outputs": [],
   "source": [
    "# %%time\n",
    "# opt = keras.optimizers.rmsprop(lr=1e-3, decay=1e-6)\n",
    "\n",
    "# model.compile(optimizer=opt,\n",
    "#               loss={'age_output': 'mse', 'split_1200_output': 'sparse_categorical_crossentropy'},\n",
    "#               loss_weights={'age_output': .1, 'split_1200_output': 1.})\n",
    "\n",
    "# plot_progress = PlotProgress(entities=['loss'])\n",
    "\n",
    "# try:\n",
    "#     model.fit({'main_input': X_train},\n",
    "#               {'age_output': y_train_age, 'split_1200_output': y_train_1200},\n",
    "#               epochs=200, batch_size=128,\n",
    "#               verbose=1,\n",
    "#               callbacks=[plot_progress],\n",
    "#               validation_split=0.2,\n",
    "#              )\n",
    "# except KeyboardInterrupt:\n",
    "#     save_path = './keras-saves/mtl_latest.ckpt'\n",
    "#     model.save(save_path)\n",
    "#     print('\\nOutput saved to: \"{}\"'.format(save_path))\n",
    "#     pass"
   ]
  },
  {
   "cell_type": "code",
   "execution_count": 155,
   "metadata": {},
   "outputs": [
    {
     "data": {
      "text/plain": [
       "3"
      ]
     },
     "execution_count": 155,
     "metadata": {},
     "output_type": "execute_result"
    }
   ],
   "source": [
    "num_classes"
   ]
  },
  {
   "cell_type": "code",
   "execution_count": 156,
   "metadata": {},
   "outputs": [
    {
     "data": {
      "image/png": "[encoded data removed]",
      "text/plain": [
       "<Figure size 576x720 with 2 Axes>"
      ]
     },
     "metadata": {},
     "output_type": "display_data"
    },
    {
     "name": "stdout",
     "output_type": "stream",
     "text": [
      "Epoch 8/150\n",
      " 5504/12248 [============>.................] - ETA: 10s - loss: 0.7554 - acc: 0.6711CPU times: user 1min 19s, sys: 33.7 s, total: 1min 52s\n",
      "Wall time: 2min 48s\n"
     ]
    }
   ],
   "source": [
    "%%time\n",
    "batch_size = 128\n",
    "epochs = 150\n",
    "\n",
    "opt = keras.optimizers.Adam(lr=1e-4,decay=1e-6)\n",
    "\n",
    "model.compile(loss='sparse_categorical_crossentropy',\n",
    "              optimizer=opt,\n",
    "              metrics=['acc'])\n",
    "# sparse_categorical_crossentropy\n",
    "\n",
    "plot_progress = PlotProgress(entities=['loss', 'acc'])\n",
    "# mean_absolute_error\n",
    "\n",
    "save_path = './keras-saves/_latest.ckpt'\n",
    "try:\n",
    "    model.fit(X_train, y_train_1200,\n",
    "              batch_size=batch_size,\n",
    "              epochs=epochs,\n",
    "#               class_weight=get_class_weights(y_train_1220),\n",
    "#               class_weight={0.0: 0.5, 1.0: 2, 2.0: 4.0},\n",
    "              validation_split=0.2,\n",
    "              callbacks=[plot_progress],\n",
    "              shuffle=True,\n",
    "         )\n",
    "except KeyboardInterrupt:\n",
    "#     model.save(save_path)\n",
    "#     print('\\nOutput saved to: \"{}./*\"'.format(save_path))\n",
    "    pass"
   ]
  },
  {
   "cell_type": "code",
   "execution_count": 91,
   "metadata": {},
   "outputs": [
    {
     "data": {
      "text/plain": [
       "4671.017"
      ]
     },
     "execution_count": 91,
     "metadata": {},
     "output_type": "execute_result"
    }
   ],
   "source": [
    "np.mean(np.square(y_test_age - model.predict(X_test)))"
   ]
  },
  {
   "cell_type": "code",
   "execution_count": 92,
   "metadata": {},
   "outputs": [],
   "source": [
    "np.square?"
   ]
  },
  {
   "cell_type": "code",
   "execution_count": null,
   "metadata": {},
   "outputs": [],
   "source": [
    "sns.distplot(y_train_age)"
   ]
  },
  {
   "cell_type": "code",
   "execution_count": null,
   "metadata": {},
   "outputs": [],
   "source": [
    "17681/len(y_train_1200)"
   ]
  },
  {
   "cell_type": "code",
   "execution_count": null,
   "metadata": {},
   "outputs": [],
   "source": [
    "sns.distplot(y_train_age.flatten())"
   ]
  },
  {
   "cell_type": "code",
   "execution_count": null,
   "metadata": {},
   "outputs": [],
   "source": [
    "Counter(y_train_1200.flatten())"
   ]
  },
  {
   "cell_type": "code",
   "execution_count": null,
   "metadata": {},
   "outputs": [],
   "source": [
    "model.predict(X_train)"
   ]
  },
  {
   "cell_type": "code",
   "execution_count": 85,
   "metadata": {},
   "outputs": [
    {
     "name": "stdout",
     "output_type": "stream",
     "text": [
      "Train Confusion Matrix\n",
      "              precision    recall  f1-score   support\n",
      "\n",
      "      Never       0.80      0.55      0.65      3843\n",
      "  Sometimes       0.71      0.87      0.78      7360\n",
      "    Usually       0.73      0.65      0.68      4107\n",
      "\n",
      "avg / total       0.74      0.73      0.72     15310\n",
      "\n",
      "Test Confusion Matrix\n",
      "              precision    recall  f1-score   support\n",
      "\n",
      "      Never       0.80      0.52      0.63       966\n",
      "  Sometimes       0.72      0.87      0.79      1845\n",
      "    Usually       0.71      0.66      0.68      1017\n",
      "\n",
      "avg / total       0.74      0.73      0.72      3828\n",
      "\n"
     ]
    }
   ],
   "source": [
    "print(\"Train Confusion Matrix\\n\", get_confusion_matrix(y_train_1200, model.predict(X_train), mapping_1200))\n",
    "print(\"Test Confusion Matrix\\n\", get_confusion_matrix(y_test_1200, model.predict(X_test), mapping_1200))"
   ]
  },
  {
   "cell_type": "code",
   "execution_count": null,
   "metadata": {},
   "outputs": [],
   "source": [
    "Counter(np.argmax(model.predict(X_test), axis=1))"
   ]
  },
  {
   "cell_type": "code",
   "execution_count": null,
   "metadata": {},
   "outputs": [],
   "source": []
  },
  {
   "cell_type": "code",
   "execution_count": 139,
   "metadata": {},
   "outputs": [],
   "source": [
    "import matplotlib.pyplot as plt\n",
    "from IPython.display import clear_output\n",
    "class PlotProgress(keras.callbacks.Callback):\n",
    "    \n",
    "    def __init__(self, entities=['loss']):\n",
    "        self.entities = entities\n",
    "        \n",
    "    def on_train_begin(self, logs={}):\n",
    "        self.i = 0\n",
    "        self.x = []\n",
    "        self.losses = {}\n",
    "        self.val_losses = {}\n",
    "        \n",
    "        self.fig = plt.figure()\n",
    "        \n",
    "        self.logs = []\n",
    "\n",
    "    def on_epoch_end(self, epoch, logs={}):\n",
    "        \n",
    "        self.logs.append(logs)\n",
    "        self.x.append(self.i)\n",
    "        \n",
    "        for entity in self.entities:\n",
    "            self.losses.update({\n",
    "                '{}'.format(entity) : self.losses.get('{}'.format(entity), list()) + [logs.get('{}'.format(entity))]\n",
    "            })\n",
    "            self.val_losses.update({\n",
    "                'val_{}'.format(entity) : self.val_losses.get('val_{}'.format(entity), list()) + [logs.get('val_{}'.format(entity))]\n",
    "            })\n",
    "        self.i += 1\n",
    "        \n",
    "        clear_output(wait=True)\n",
    "        ncol = 2\n",
    "        nrow = int(len(self.entities) / ncol) + 1\n",
    "        plt.figure(figsize=(8, 10))\n",
    "        \n",
    "        for idx, entity in enumerate(self.entities):\n",
    "            plt.subplot(nrow, ncol, idx + 1)\n",
    "            plt.plot(self.x, self.losses.get(\"{}\".format(entity)), label=\"{}\".format(entity))\n",
    "            plt.plot(self.x, self.val_losses.get(\"val_{}\".format(entity)), label=\"val_{}\".format(entity))\n",
    "            plt.xlabel('epoch')\n",
    "            plt.title(entity)\n",
    "            plt.legend()\n",
    "        plt.show();"
   ]
  },
  {
   "cell_type": "code",
   "execution_count": null,
   "metadata": {},
   "outputs": [],
   "source": []
  }
 ],
 "metadata": {
  "kernelspec": {
   "display_name": "Python 3",
   "language": "python",
   "name": "python3"
  },
  "language_info": {
   "codemirror_mode": {
    "name": "ipython",
    "version": 3
   },
   "file_extension": ".py",
   "mimetype": "text/x-python",
   "name": "python",
   "nbconvert_exporter": "python",
   "pygments_lexer": "ipython3",
   "version": "3.6.5"
  }
 },
 "nbformat": 4,
 "nbformat_minor": 2
}
