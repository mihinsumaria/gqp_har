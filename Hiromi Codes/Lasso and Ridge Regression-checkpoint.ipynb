{
 "cells": [
  {
   "cell_type": "code",
   "execution_count": 14,
   "metadata": {},
   "outputs": [
    {
     "name": "stdout",
     "output_type": "stream",
     "text": [
      "C:\\Users\\Hiromi\\Documents\\WPI\\GQP Takeda\\HAPT Data Set\n"
     ]
    }
   ],
   "source": [
    "import os\n",
    "os.chdir(r\"C:\\Users\\Hiromi\\Documents\\WPI\\GQP Takeda\\HAPT Data Set\")\n",
    "a = os.getcwd()\n",
    "print (a)"
   ]
  },
  {
   "cell_type": "code",
   "execution_count": 15,
   "metadata": {},
   "outputs": [],
   "source": [
    "import pandas as pd\n",
    "import matplotlib.pyplot as plt\n",
    "from sklearn.model_selection import train_test_split\n",
    "import seaborn as sb\n",
    "import numpy as np\n",
    "from sklearn import linear_model\n",
    "from sklearn.model_selection import cross_validate\n",
    "from sklearn.linear_model import Lasso"
   ]
  },
  {
   "cell_type": "code",
   "execution_count": 16,
   "metadata": {},
   "outputs": [
    {
     "data": {
      "text/plain": [
       "(7767, 562)"
      ]
     },
     "execution_count": 16,
     "metadata": {},
     "output_type": "execute_result"
    }
   ],
   "source": [
    "train = pd.read_csv(\"./train.csv\")\n",
    "#train.info()\n",
    "train.drop(['id'], axis = 1, inplace = True)\n",
    "train.shape"
   ]
  },
  {
   "cell_type": "markdown",
   "metadata": {},
   "source": [
    "### Variance Filtering"
   ]
  },
  {
   "cell_type": "code",
   "execution_count": 17,
   "metadata": {
    "scrolled": true
   },
   "outputs": [
    {
     "data": {
      "text/plain": [
       "['tBodyAcc-Mean-3',\n",
       " 'tBodyAcc-STD-1',\n",
       " 'fBodyAcc-BandsEnergyOld-33',\n",
       " 'fBodyAcc-BandsEnergyOld-34',\n",
       " 'fBodyAcc-BandsEnergyOld-40',\n",
       " 'fBodyAccJerk-Mean-1',\n",
       " 'fBodyAccJerk-BandsEnergyOld-9',\n",
       " 'fBodyAccJerk-BandsEnergyOld-23',\n",
       " 'fBodyAccJerk-BandsEnergyOld-33',\n",
       " 'fBodyAccJerk-BandsEnergyOld-34',\n",
       " 'fBodyAccJerk-BandsEnergyOld-40',\n",
       " 'fBodyGyro-Mean-1',\n",
       " 'fBodyGyro-BandsEnergyOld-5',\n",
       " 'fBodyGyro-BandsEnergyOld-7',\n",
       " 'fBodyGyro-BandsEnergyOld-8',\n",
       " 'fBodyGyro-BandsEnergyOld-9',\n",
       " 'fBodyGyro-BandsEnergyOld-13',\n",
       " 'fBodyGyro-BandsEnergyOld-15',\n",
       " 'fBodyGyro-BandsEnergyOld-19',\n",
       " 'fBodyGyro-BandsEnergyOld-20',\n",
       " 'fBodyGyro-BandsEnergyOld-23',\n",
       " 'fBodyGyro-BandsEnergyOld-26',\n",
       " 'fBodyGyro-BandsEnergyOld-29',\n",
       " 'fBodyGyro-BandsEnergyOld-33',\n",
       " 'fBodyGyro-BandsEnergyOld-34',\n",
       " 'fBodyGyro-BandsEnergyOld-35',\n",
       " 'fBodyGyro-BandsEnergyOld-37',\n",
       " 'fBodyGyro-BandsEnergyOld-40',\n",
       " 'fBodyGyro-BandsEnergyOld-41',\n",
       " 'fBodyAccMag-Mean-1']"
      ]
     },
     "execution_count": 17,
     "metadata": {},
     "output_type": "execute_result"
    }
   ],
   "source": [
    "var = train.var() # calculate variance for each feature\n",
    "numeric = train.columns\n",
    "unwanted_variable = [ ]\n",
    "for i in range(0,len(var)):\n",
    "    if var[i]< 0.01:   #setting the threshold as 0.01%\n",
    "        unwanted_variable.append(numeric[i+1])\n",
    "unwanted_variable\n",
    "#print (len(unwated_variable)) #30 variables"
   ]
  },
  {
   "cell_type": "code",
   "execution_count": 18,
   "metadata": {},
   "outputs": [
    {
     "data": {
      "text/plain": [
       "(7767, 532)"
      ]
     },
     "execution_count": 18,
     "metadata": {},
     "output_type": "execute_result"
    }
   ],
   "source": [
    "#dropping unwated variables (30 variables)\n",
    "train = train.drop(columns = unwanted_variable, axis = 1)\n",
    "train.shape"
   ]
  },
  {
   "cell_type": "markdown",
   "metadata": {},
   "source": [
    "### Train and Test set"
   ]
  },
  {
   "cell_type": "code",
   "execution_count": 19,
   "metadata": {},
   "outputs": [
    {
     "name": "stdout",
     "output_type": "stream",
     "text": [
      "(3162, 531) (3162,)\n",
      "(7767, 531) (7767,)\n"
     ]
    }
   ],
   "source": [
    "new_col = train.drop(['activity'], axis = 1)\n",
    "new_col = list(new_col)\n",
    "X_train = train[new_col]\n",
    "y_train = train['activity']\n",
    "\n",
    "test = pd.read_csv(\"./test.csv\")\n",
    "#test.shape\n",
    "X_test = test[new_col]\n",
    "y_test = test['activity']\n",
    "print (X_test.shape, y_test.shape)\n",
    "print (X_train.shape, y_train.shape)"
   ]
  },
  {
   "cell_type": "code",
   "execution_count": 20,
   "metadata": {
    "scrolled": true
   },
   "outputs": [
    {
     "data": {
      "text/plain": [
       "array([ 3.82134176e-01,  9.47714281e-02, -0.00000000e+00, -0.00000000e+00,\n",
       "       -0.00000000e+00, -0.00000000e+00, -0.00000000e+00,  0.00000000e+00,\n",
       "        0.00000000e+00,  0.00000000e+00,  0.00000000e+00,  0.00000000e+00,\n",
       "        0.00000000e+00,  0.00000000e+00,  0.00000000e+00,  6.86238570e-01,\n",
       "        2.13030428e-01, -0.00000000e+00,  0.00000000e+00,  0.00000000e+00,\n",
       "        0.00000000e+00, -0.00000000e+00, -0.00000000e+00,  1.57566748e-01,\n",
       "        0.00000000e+00, -1.25976932e-02,  3.28659900e-02,  0.00000000e+00,\n",
       "        0.00000000e+00, -0.00000000e+00, -0.00000000e+00,  0.00000000e+00,\n",
       "        0.00000000e+00, -0.00000000e+00, -0.00000000e+00,  5.77216145e-02,\n",
       "        3.35049171e-02, -4.25977577e-02, -0.00000000e+00, -0.00000000e+00,\n",
       "        0.00000000e+00,  1.35001769e-01,  8.63029383e-01,  3.28505523e-01,\n",
       "        0.00000000e+00,  0.00000000e+00,  0.00000000e+00,  0.00000000e+00,\n",
       "        0.00000000e+00,  1.14684812e-01, -5.71479457e-01, -0.00000000e+00,\n",
       "        0.00000000e+00, -3.13156846e-01, -5.05685173e-01,  1.10752373e-01,\n",
       "        0.00000000e+00,  0.00000000e+00,  0.00000000e+00,  0.00000000e+00,\n",
       "        6.94597634e-01,  1.02709728e-01,  0.00000000e+00,  0.00000000e+00,\n",
       "       -0.00000000e+00,  0.00000000e+00, -7.57544407e-02, -0.00000000e+00,\n",
       "       -0.00000000e+00,  0.00000000e+00, -0.00000000e+00,  0.00000000e+00,\n",
       "       -0.00000000e+00,  0.00000000e+00, -0.00000000e+00,  1.56384744e-02,\n",
       "        5.65886010e-02,  3.66672429e-03, -0.00000000e+00,  2.40135253e-02,\n",
       "        0.00000000e+00, -0.00000000e+00, -0.00000000e+00, -0.00000000e+00,\n",
       "       -8.37031365e-02, -1.06850760e+00, -0.00000000e+00,  0.00000000e+00,\n",
       "        0.00000000e+00,  0.00000000e+00,  5.51070399e-01,  3.17256395e-01,\n",
       "        1.63384872e-01, -0.00000000e+00, -0.00000000e+00, -0.00000000e+00,\n",
       "       -0.00000000e+00, -2.26382329e-01, -0.00000000e+00, -0.00000000e+00,\n",
       "       -8.45880849e-01, -0.00000000e+00, -2.95657198e-01,  0.00000000e+00,\n",
       "        2.02490176e-01, -0.00000000e+00, -0.00000000e+00,  0.00000000e+00,\n",
       "        7.31366627e-02,  0.00000000e+00,  1.90791358e-02,  0.00000000e+00,\n",
       "        2.21719375e-01,  0.00000000e+00,  0.00000000e+00, -0.00000000e+00,\n",
       "       -5.29452474e-02, -4.91042512e-02, -0.00000000e+00,  0.00000000e+00,\n",
       "       -0.00000000e+00,  4.37470837e-03, -0.00000000e+00,  0.00000000e+00,\n",
       "        0.00000000e+00, -0.00000000e+00,  0.00000000e+00,  0.00000000e+00,\n",
       "       -0.00000000e+00,  0.00000000e+00, -1.28123376e-01, -0.00000000e+00,\n",
       "       -0.00000000e+00,  0.00000000e+00,  0.00000000e+00, -0.00000000e+00,\n",
       "        0.00000000e+00,  0.00000000e+00, -0.00000000e+00,  0.00000000e+00,\n",
       "        8.01519079e-02,  2.30288638e-01, -1.15374035e-01, -0.00000000e+00,\n",
       "        0.00000000e+00, -0.00000000e+00,  2.65049558e-01,  1.62036237e-02,\n",
       "       -0.00000000e+00, -0.00000000e+00,  3.77868885e-03,  0.00000000e+00,\n",
       "       -0.00000000e+00, -0.00000000e+00,  1.40889265e-01,  7.76631440e-02,\n",
       "       -3.14288329e-02, -1.80088262e-01, -0.00000000e+00,  0.00000000e+00,\n",
       "       -0.00000000e+00, -0.00000000e+00, -0.00000000e+00, -0.00000000e+00,\n",
       "       -0.00000000e+00, -0.00000000e+00, -0.00000000e+00, -0.00000000e+00,\n",
       "       -0.00000000e+00,  0.00000000e+00,  0.00000000e+00,  0.00000000e+00,\n",
       "        0.00000000e+00, -0.00000000e+00, -0.00000000e+00, -0.00000000e+00,\n",
       "       -0.00000000e+00, -2.85978532e-01, -0.00000000e+00, -0.00000000e+00,\n",
       "        2.70904693e-01,  0.00000000e+00, -0.00000000e+00, -0.00000000e+00,\n",
       "       -0.00000000e+00, -0.00000000e+00, -4.79556903e-02,  0.00000000e+00,\n",
       "       -0.00000000e+00, -0.00000000e+00,  0.00000000e+00,  0.00000000e+00,\n",
       "       -0.00000000e+00, -0.00000000e+00, -0.00000000e+00, -0.00000000e+00,\n",
       "       -1.84284174e-01, -1.90717975e-01,  0.00000000e+00,  1.44037337e+00,\n",
       "        0.00000000e+00,  0.00000000e+00,  0.00000000e+00,  0.00000000e+00,\n",
       "        2.79749493e+00,  7.94501711e-02, -0.00000000e+00,  0.00000000e+00,\n",
       "        0.00000000e+00, -0.00000000e+00, -6.98711254e-02,  0.00000000e+00,\n",
       "        7.16660420e-02,  0.00000000e+00,  0.00000000e+00,  0.00000000e+00,\n",
       "        0.00000000e+00,  3.84068619e-03,  0.00000000e+00, -0.00000000e+00,\n",
       "        0.00000000e+00,  0.00000000e+00, -0.00000000e+00, -4.13811219e-02,\n",
       "       -0.00000000e+00, -0.00000000e+00, -0.00000000e+00, -0.00000000e+00,\n",
       "       -1.59361503e-02, -0.00000000e+00, -0.00000000e+00, -0.00000000e+00,\n",
       "       -0.00000000e+00,  1.08738171e-01, -0.00000000e+00,  0.00000000e+00,\n",
       "       -0.00000000e+00,  0.00000000e+00,  0.00000000e+00,  0.00000000e+00,\n",
       "        0.00000000e+00, -0.00000000e+00,  0.00000000e+00,  0.00000000e+00,\n",
       "        0.00000000e+00, -2.66014670e-01, -0.00000000e+00,  0.00000000e+00,\n",
       "       -0.00000000e+00,  0.00000000e+00, -0.00000000e+00, -0.00000000e+00,\n",
       "       -0.00000000e+00, -0.00000000e+00, -0.00000000e+00, -0.00000000e+00,\n",
       "       -0.00000000e+00, -0.00000000e+00,  1.06243251e-01, -0.00000000e+00,\n",
       "        0.00000000e+00, -0.00000000e+00, -0.00000000e+00, -0.00000000e+00,\n",
       "       -0.00000000e+00, -0.00000000e+00, -0.00000000e+00, -0.00000000e+00,\n",
       "       -0.00000000e+00, -4.76635734e-01, -1.45864318e-01, -0.00000000e+00,\n",
       "       -0.00000000e+00,  0.00000000e+00,  0.00000000e+00, -0.00000000e+00,\n",
       "       -0.00000000e+00, -0.00000000e+00, -0.00000000e+00,  0.00000000e+00,\n",
       "        0.00000000e+00,  0.00000000e+00, -0.00000000e+00, -0.00000000e+00,\n",
       "        0.00000000e+00, -3.42511498e-01, -0.00000000e+00, -3.99249644e-01,\n",
       "        1.30602361e-02, -2.14415734e-02, -0.00000000e+00,  0.00000000e+00,\n",
       "       -0.00000000e+00,  0.00000000e+00, -3.68637244e-01, -0.00000000e+00,\n",
       "        0.00000000e+00,  2.25749222e-02, -1.74157864e-02, -0.00000000e+00,\n",
       "        0.00000000e+00, -0.00000000e+00,  0.00000000e+00,  0.00000000e+00,\n",
       "        0.00000000e+00,  0.00000000e+00,  0.00000000e+00,  0.00000000e+00,\n",
       "       -0.00000000e+00,  0.00000000e+00,  0.00000000e+00,  0.00000000e+00,\n",
       "       -0.00000000e+00,  0.00000000e+00,  0.00000000e+00, -0.00000000e+00,\n",
       "        0.00000000e+00,  0.00000000e+00,  0.00000000e+00,  0.00000000e+00,\n",
       "        0.00000000e+00,  0.00000000e+00,  0.00000000e+00,  0.00000000e+00,\n",
       "        0.00000000e+00,  0.00000000e+00,  0.00000000e+00,  0.00000000e+00,\n",
       "        0.00000000e+00, -0.00000000e+00, -0.00000000e+00,  0.00000000e+00,\n",
       "        0.00000000e+00,  0.00000000e+00,  0.00000000e+00,  0.00000000e+00,\n",
       "        0.00000000e+00,  0.00000000e+00,  0.00000000e+00, -0.00000000e+00,\n",
       "       -0.00000000e+00, -5.46970379e-03, -2.45449671e-03, -0.00000000e+00,\n",
       "       -0.00000000e+00, -0.00000000e+00, -0.00000000e+00, -0.00000000e+00,\n",
       "       -8.96284901e-02, -0.00000000e+00, -0.00000000e+00, -0.00000000e+00,\n",
       "       -0.00000000e+00, -0.00000000e+00, -0.00000000e+00, -0.00000000e+00,\n",
       "       -0.00000000e+00, -0.00000000e+00, -0.00000000e+00, -0.00000000e+00,\n",
       "       -0.00000000e+00, -0.00000000e+00, -0.00000000e+00,  1.92203240e-02,\n",
       "        2.00112015e-01,  9.38540079e-02,  2.12761005e-01,  0.00000000e+00,\n",
       "        1.96489527e-01, -8.09853632e-02, -0.00000000e+00, -3.14668743e-02,\n",
       "       -0.00000000e+00, -9.29650223e-02, -0.00000000e+00, -0.00000000e+00,\n",
       "       -0.00000000e+00,  0.00000000e+00,  0.00000000e+00,  0.00000000e+00,\n",
       "        0.00000000e+00,  0.00000000e+00, -0.00000000e+00,  0.00000000e+00,\n",
       "        0.00000000e+00,  0.00000000e+00, -0.00000000e+00,  0.00000000e+00,\n",
       "       -1.05700449e-02, -0.00000000e+00, -0.00000000e+00,  0.00000000e+00,\n",
       "        0.00000000e+00,  0.00000000e+00, -0.00000000e+00, -0.00000000e+00,\n",
       "        0.00000000e+00,  0.00000000e+00, -0.00000000e+00, -0.00000000e+00,\n",
       "        0.00000000e+00, -7.26513838e-01, -0.00000000e+00,  0.00000000e+00,\n",
       "        0.00000000e+00,  0.00000000e+00, -0.00000000e+00, -0.00000000e+00,\n",
       "        0.00000000e+00, -0.00000000e+00, -0.00000000e+00,  0.00000000e+00,\n",
       "       -0.00000000e+00,  0.00000000e+00,  8.75514854e-02, -0.00000000e+00,\n",
       "        0.00000000e+00,  0.00000000e+00, -0.00000000e+00,  0.00000000e+00,\n",
       "        0.00000000e+00, -4.12854308e-01,  0.00000000e+00,  4.77409736e-02,\n",
       "       -0.00000000e+00, -0.00000000e+00,  0.00000000e+00,  0.00000000e+00,\n",
       "       -0.00000000e+00,  0.00000000e+00, -0.00000000e+00, -0.00000000e+00,\n",
       "       -0.00000000e+00,  5.58982606e-01,  0.00000000e+00, -0.00000000e+00,\n",
       "       -0.00000000e+00, -0.00000000e+00, -0.00000000e+00, -4.99865559e-01,\n",
       "       -0.00000000e+00, -1.74694325e-02,  0.00000000e+00,  0.00000000e+00,\n",
       "       -8.66544206e-03, -0.00000000e+00, -0.00000000e+00, -0.00000000e+00,\n",
       "        0.00000000e+00, -7.17886693e-02, -0.00000000e+00, -0.00000000e+00,\n",
       "        0.00000000e+00, -0.00000000e+00,  0.00000000e+00,  0.00000000e+00,\n",
       "        0.00000000e+00,  0.00000000e+00, -0.00000000e+00,  0.00000000e+00,\n",
       "        0.00000000e+00, -0.00000000e+00, -0.00000000e+00,  0.00000000e+00,\n",
       "       -0.00000000e+00,  0.00000000e+00,  0.00000000e+00, -0.00000000e+00,\n",
       "        0.00000000e+00,  0.00000000e+00, -0.00000000e+00, -0.00000000e+00,\n",
       "        0.00000000e+00,  3.18394259e-01,  0.00000000e+00,  1.15577584e-01,\n",
       "        0.00000000e+00,  2.58340637e-01,  0.00000000e+00,  0.00000000e+00,\n",
       "       -0.00000000e+00, -7.88888753e-02, -0.00000000e+00,  1.43062080e-01,\n",
       "        0.00000000e+00, -0.00000000e+00, -0.00000000e+00, -0.00000000e+00,\n",
       "       -0.00000000e+00,  0.00000000e+00, -0.00000000e+00,  0.00000000e+00,\n",
       "       -0.00000000e+00, -0.00000000e+00, -0.00000000e+00, -0.00000000e+00,\n",
       "       -0.00000000e+00, -7.91067312e-02,  0.00000000e+00,  2.76512771e-02,\n",
       "        0.00000000e+00,  5.79713979e-02,  3.11169241e-02,  0.00000000e+00,\n",
       "        0.00000000e+00, -0.00000000e+00,  0.00000000e+00, -0.00000000e+00,\n",
       "       -0.00000000e+00,  0.00000000e+00,  0.00000000e+00, -0.00000000e+00,\n",
       "       -0.00000000e+00, -0.00000000e+00, -0.00000000e+00,  0.00000000e+00,\n",
       "       -0.00000000e+00, -0.00000000e+00, -0.00000000e+00,  0.00000000e+00,\n",
       "       -9.15796732e-03, -0.00000000e+00,  0.00000000e+00,  0.00000000e+00,\n",
       "        6.05023457e-02,  0.00000000e+00,  3.88359634e-02,  0.00000000e+00,\n",
       "       -0.00000000e+00,  0.00000000e+00, -0.00000000e+00])"
      ]
     },
     "execution_count": 20,
     "metadata": {},
     "output_type": "execute_result"
    }
   ],
   "source": [
    "alphas = 10**np.linspace(10,-2,100)*0.5\n",
    "#alphas = np.logspace(-4, -1, 10)\n",
    "#alphas\n",
    "for i in alphas:\n",
    "    lasso = linear_model.Lasso()\n",
    "    lasso.set_params(alpha=i, tol = 0.001)\n",
    "    lasso.fit(X_train, y_train)\n",
    "lasso.coef_"
   ]
  },
  {
   "cell_type": "code",
   "execution_count": 21,
   "metadata": {},
   "outputs": [
    {
     "name": "stdout",
     "output_type": "stream",
     "text": [
      "Training set score: 0.90\n",
      "Test set score: 0.87\n",
      "Number of features used: 109\n"
     ]
    }
   ],
   "source": [
    "print(\"Training set score: {:.2f}\".format(lasso.score(X_train, y_train)))\n",
    "print(\"Test set score: {:.2f}\".format(lasso.score(X_test, y_test)))\n",
    "print(\"Number of features used: {}\".format(np.sum(lasso.coef_ != 0)))"
   ]
  },
  {
   "cell_type": "code",
   "execution_count": 22,
   "metadata": {},
   "outputs": [
    {
     "data": {
      "text/plain": [
       "array([ 3.49352860e-01,  5.43331495e-02, -0.00000000e+00, -0.00000000e+00,\n",
       "       -0.00000000e+00,  0.00000000e+00,  0.00000000e+00,  0.00000000e+00,\n",
       "        0.00000000e+00,  0.00000000e+00,  0.00000000e+00,  0.00000000e+00,\n",
       "        0.00000000e+00,  7.33613488e-02,  0.00000000e+00,  6.95150301e-01,\n",
       "        1.70556454e-01, -0.00000000e+00,  0.00000000e+00,  0.00000000e+00,\n",
       "        0.00000000e+00, -0.00000000e+00, -0.00000000e+00,  1.01665954e-01,\n",
       "        0.00000000e+00, -0.00000000e+00,  4.10054492e-02,  0.00000000e+00,\n",
       "        0.00000000e+00, -0.00000000e+00, -0.00000000e+00,  0.00000000e+00,\n",
       "        0.00000000e+00, -0.00000000e+00, -0.00000000e+00,  5.76288090e-02,\n",
       "        3.18331518e-02, -4.18495265e-02, -0.00000000e+00, -0.00000000e+00,\n",
       "        0.00000000e+00,  1.39454394e-01,  8.49552860e-01,  3.07397891e-01,\n",
       "        0.00000000e+00,  0.00000000e+00,  0.00000000e+00,  0.00000000e+00,\n",
       "        0.00000000e+00,  1.03460874e-01, -5.22102675e-01, -0.00000000e+00,\n",
       "        0.00000000e+00, -3.16703386e-01, -5.38615608e-01,  1.08446345e-01,\n",
       "        0.00000000e+00,  0.00000000e+00,  0.00000000e+00,  0.00000000e+00,\n",
       "        6.86796856e-01,  9.08448962e-02,  0.00000000e+00,  0.00000000e+00,\n",
       "       -0.00000000e+00,  0.00000000e+00, -9.13506422e-02, -0.00000000e+00,\n",
       "       -0.00000000e+00,  0.00000000e+00, -0.00000000e+00,  0.00000000e+00,\n",
       "       -0.00000000e+00,  0.00000000e+00, -0.00000000e+00,  1.65398800e-02,\n",
       "        5.71729061e-02,  2.47504131e-03, -0.00000000e+00,  1.70120922e-02,\n",
       "        1.78939684e-02, -0.00000000e+00, -0.00000000e+00, -0.00000000e+00,\n",
       "       -3.27082402e-01, -1.02240119e+00, -0.00000000e+00,  0.00000000e+00,\n",
       "        0.00000000e+00,  0.00000000e+00,  5.19108564e-01,  3.19902739e-01,\n",
       "        1.26813606e-01, -0.00000000e+00, -0.00000000e+00, -0.00000000e+00,\n",
       "       -0.00000000e+00, -1.02540024e-01, -0.00000000e+00, -0.00000000e+00,\n",
       "       -8.67925620e-01, -0.00000000e+00, -4.06790036e-01,  0.00000000e+00,\n",
       "        1.73250446e-01, -0.00000000e+00, -0.00000000e+00,  0.00000000e+00,\n",
       "        7.28357782e-02,  0.00000000e+00,  1.62049406e-02,  0.00000000e+00,\n",
       "        2.26041468e-01,  0.00000000e+00,  0.00000000e+00, -0.00000000e+00,\n",
       "       -3.56015023e-02, -5.81899398e-02, -0.00000000e+00,  0.00000000e+00,\n",
       "       -0.00000000e+00,  0.00000000e+00, -0.00000000e+00,  0.00000000e+00,\n",
       "        0.00000000e+00, -0.00000000e+00,  0.00000000e+00,  0.00000000e+00,\n",
       "       -0.00000000e+00,  0.00000000e+00, -4.69586995e-02, -0.00000000e+00,\n",
       "       -0.00000000e+00,  0.00000000e+00,  0.00000000e+00, -0.00000000e+00,\n",
       "        0.00000000e+00,  0.00000000e+00, -0.00000000e+00,  0.00000000e+00,\n",
       "        5.94734044e-02,  2.19797246e-01, -1.27206956e-01, -0.00000000e+00,\n",
       "        0.00000000e+00, -0.00000000e+00,  2.70924513e-01,  4.33637894e-02,\n",
       "       -0.00000000e+00, -0.00000000e+00,  3.27917414e-03,  0.00000000e+00,\n",
       "       -0.00000000e+00, -0.00000000e+00,  1.33715221e-01,  7.77017410e-02,\n",
       "       -3.03350230e-02, -1.81206517e-01, -0.00000000e+00,  0.00000000e+00,\n",
       "       -0.00000000e+00, -0.00000000e+00, -0.00000000e+00, -0.00000000e+00,\n",
       "       -0.00000000e+00, -0.00000000e+00, -0.00000000e+00, -0.00000000e+00,\n",
       "       -0.00000000e+00,  0.00000000e+00,  0.00000000e+00,  0.00000000e+00,\n",
       "        0.00000000e+00, -0.00000000e+00, -0.00000000e+00, -0.00000000e+00,\n",
       "       -0.00000000e+00, -3.69096963e-01, -0.00000000e+00, -0.00000000e+00,\n",
       "        1.57348712e-01,  0.00000000e+00, -0.00000000e+00, -0.00000000e+00,\n",
       "       -0.00000000e+00, -0.00000000e+00, -4.95352867e-02,  0.00000000e+00,\n",
       "       -0.00000000e+00, -0.00000000e+00,  0.00000000e+00,  0.00000000e+00,\n",
       "       -0.00000000e+00, -0.00000000e+00, -0.00000000e+00, -0.00000000e+00,\n",
       "       -1.81855904e-01, -1.92687899e-01,  0.00000000e+00,  1.59796737e+00,\n",
       "        0.00000000e+00,  0.00000000e+00,  0.00000000e+00,  0.00000000e+00,\n",
       "        2.92242468e+00,  7.16547079e-02, -0.00000000e+00,  0.00000000e+00,\n",
       "        0.00000000e+00, -0.00000000e+00, -7.71225541e-02,  0.00000000e+00,\n",
       "        1.63603544e-02,  0.00000000e+00,  0.00000000e+00,  0.00000000e+00,\n",
       "        0.00000000e+00,  1.70508340e-02,  4.77513345e-02, -0.00000000e+00,\n",
       "        0.00000000e+00,  0.00000000e+00, -0.00000000e+00, -3.38664285e-02,\n",
       "       -0.00000000e+00, -0.00000000e+00, -0.00000000e+00, -0.00000000e+00,\n",
       "       -5.74606349e-03, -0.00000000e+00, -0.00000000e+00, -0.00000000e+00,\n",
       "       -0.00000000e+00,  1.09903634e-01, -0.00000000e+00,  0.00000000e+00,\n",
       "       -0.00000000e+00,  0.00000000e+00,  0.00000000e+00,  0.00000000e+00,\n",
       "        0.00000000e+00, -0.00000000e+00,  0.00000000e+00,  0.00000000e+00,\n",
       "        0.00000000e+00, -2.47213447e-01, -0.00000000e+00,  0.00000000e+00,\n",
       "       -0.00000000e+00,  0.00000000e+00, -0.00000000e+00, -0.00000000e+00,\n",
       "       -0.00000000e+00, -0.00000000e+00, -0.00000000e+00, -0.00000000e+00,\n",
       "       -0.00000000e+00, -0.00000000e+00,  2.57946658e-01,  0.00000000e+00,\n",
       "        0.00000000e+00, -0.00000000e+00, -0.00000000e+00, -0.00000000e+00,\n",
       "       -0.00000000e+00, -0.00000000e+00, -0.00000000e+00,  0.00000000e+00,\n",
       "       -0.00000000e+00, -5.55383421e-01, -2.35030220e-01, -0.00000000e+00,\n",
       "       -0.00000000e+00,  0.00000000e+00,  0.00000000e+00, -0.00000000e+00,\n",
       "       -0.00000000e+00, -0.00000000e+00, -0.00000000e+00, -0.00000000e+00,\n",
       "        0.00000000e+00,  0.00000000e+00, -0.00000000e+00, -0.00000000e+00,\n",
       "       -0.00000000e+00, -3.03365560e-01, -0.00000000e+00, -4.00580284e-01,\n",
       "        1.34562982e-02, -2.64236590e-02, -0.00000000e+00,  0.00000000e+00,\n",
       "       -0.00000000e+00,  0.00000000e+00, -3.77254819e-01, -0.00000000e+00,\n",
       "        0.00000000e+00,  2.62031848e-02, -2.22171261e-02, -0.00000000e+00,\n",
       "        0.00000000e+00, -0.00000000e+00,  0.00000000e+00,  0.00000000e+00,\n",
       "        0.00000000e+00,  0.00000000e+00,  0.00000000e+00,  0.00000000e+00,\n",
       "       -0.00000000e+00,  0.00000000e+00,  0.00000000e+00,  0.00000000e+00,\n",
       "       -0.00000000e+00,  0.00000000e+00,  0.00000000e+00, -0.00000000e+00,\n",
       "        0.00000000e+00,  0.00000000e+00,  0.00000000e+00,  0.00000000e+00,\n",
       "        0.00000000e+00,  0.00000000e+00,  0.00000000e+00,  0.00000000e+00,\n",
       "        0.00000000e+00,  0.00000000e+00,  0.00000000e+00,  0.00000000e+00,\n",
       "        0.00000000e+00, -0.00000000e+00, -0.00000000e+00,  0.00000000e+00,\n",
       "        0.00000000e+00,  0.00000000e+00,  0.00000000e+00,  0.00000000e+00,\n",
       "        0.00000000e+00,  0.00000000e+00,  0.00000000e+00, -0.00000000e+00,\n",
       "       -0.00000000e+00, -0.00000000e+00, -0.00000000e+00, -0.00000000e+00,\n",
       "       -0.00000000e+00, -0.00000000e+00, -0.00000000e+00, -0.00000000e+00,\n",
       "       -8.51098906e-02, -0.00000000e+00, -0.00000000e+00, -0.00000000e+00,\n",
       "       -0.00000000e+00, -0.00000000e+00, -0.00000000e+00, -0.00000000e+00,\n",
       "       -0.00000000e+00, -0.00000000e+00, -0.00000000e+00, -0.00000000e+00,\n",
       "       -0.00000000e+00, -0.00000000e+00, -0.00000000e+00,  2.62987652e-02,\n",
       "        2.02600590e-01,  9.53555027e-02,  2.25047451e-01,  0.00000000e+00,\n",
       "        1.97011465e-01, -8.13077360e-02, -0.00000000e+00, -3.01543930e-02,\n",
       "       -0.00000000e+00, -7.59661675e-02, -0.00000000e+00, -0.00000000e+00,\n",
       "       -0.00000000e+00,  0.00000000e+00,  0.00000000e+00,  0.00000000e+00,\n",
       "        0.00000000e+00,  0.00000000e+00, -0.00000000e+00,  0.00000000e+00,\n",
       "        0.00000000e+00,  0.00000000e+00, -0.00000000e+00,  0.00000000e+00,\n",
       "       -1.22106103e-02, -0.00000000e+00,  0.00000000e+00,  0.00000000e+00,\n",
       "        0.00000000e+00,  0.00000000e+00, -0.00000000e+00, -0.00000000e+00,\n",
       "        0.00000000e+00,  0.00000000e+00, -0.00000000e+00, -0.00000000e+00,\n",
       "        0.00000000e+00, -7.52286092e-01, -0.00000000e+00,  0.00000000e+00,\n",
       "        0.00000000e+00,  0.00000000e+00, -0.00000000e+00, -0.00000000e+00,\n",
       "        0.00000000e+00, -0.00000000e+00, -0.00000000e+00,  0.00000000e+00,\n",
       "       -0.00000000e+00,  0.00000000e+00,  1.43376927e-01, -0.00000000e+00,\n",
       "        0.00000000e+00,  0.00000000e+00, -0.00000000e+00,  0.00000000e+00,\n",
       "        0.00000000e+00, -4.09345564e-01,  0.00000000e+00,  3.78913095e-02,\n",
       "       -0.00000000e+00, -0.00000000e+00,  0.00000000e+00,  0.00000000e+00,\n",
       "       -0.00000000e+00,  0.00000000e+00, -0.00000000e+00, -0.00000000e+00,\n",
       "       -0.00000000e+00,  5.87802225e-01,  0.00000000e+00, -0.00000000e+00,\n",
       "       -0.00000000e+00, -0.00000000e+00, -0.00000000e+00, -4.91502198e-01,\n",
       "       -0.00000000e+00, -1.47485830e-02,  0.00000000e+00,  0.00000000e+00,\n",
       "       -1.82786186e-03, -0.00000000e+00, -0.00000000e+00, -0.00000000e+00,\n",
       "        0.00000000e+00, -8.86358626e-03, -0.00000000e+00,  0.00000000e+00,\n",
       "        0.00000000e+00, -0.00000000e+00,  0.00000000e+00,  0.00000000e+00,\n",
       "        0.00000000e+00,  0.00000000e+00, -0.00000000e+00,  0.00000000e+00,\n",
       "        0.00000000e+00, -0.00000000e+00, -0.00000000e+00,  0.00000000e+00,\n",
       "       -0.00000000e+00,  0.00000000e+00,  0.00000000e+00, -0.00000000e+00,\n",
       "        0.00000000e+00,  0.00000000e+00, -0.00000000e+00, -0.00000000e+00,\n",
       "        0.00000000e+00,  1.32822487e-02,  0.00000000e+00,  1.50720280e-01,\n",
       "        0.00000000e+00,  4.34580669e-01,  0.00000000e+00,  0.00000000e+00,\n",
       "       -0.00000000e+00, -6.52786656e-02, -6.96353571e-03,  1.43450083e-01,\n",
       "        0.00000000e+00, -0.00000000e+00, -0.00000000e+00, -0.00000000e+00,\n",
       "       -0.00000000e+00,  0.00000000e+00, -0.00000000e+00,  0.00000000e+00,\n",
       "       -0.00000000e+00, -0.00000000e+00, -0.00000000e+00, -0.00000000e+00,\n",
       "       -0.00000000e+00, -7.58552488e-02,  0.00000000e+00,  7.14486005e-02,\n",
       "        0.00000000e+00,  3.62317726e-02,  1.88452571e-02,  0.00000000e+00,\n",
       "        0.00000000e+00, -0.00000000e+00,  0.00000000e+00, -0.00000000e+00,\n",
       "       -0.00000000e+00,  0.00000000e+00,  0.00000000e+00, -0.00000000e+00,\n",
       "       -0.00000000e+00, -0.00000000e+00, -0.00000000e+00,  0.00000000e+00,\n",
       "       -0.00000000e+00, -0.00000000e+00, -0.00000000e+00,  0.00000000e+00,\n",
       "       -0.00000000e+00, -0.00000000e+00,  0.00000000e+00, -0.00000000e+00,\n",
       "        6.01949541e-02,  0.00000000e+00,  3.96412959e-02,  0.00000000e+00,\n",
       "       -0.00000000e+00,  0.00000000e+00, -0.00000000e+00])"
      ]
     },
     "execution_count": 22,
     "metadata": {},
     "output_type": "execute_result"
    }
   ],
   "source": [
    "for i in alphas:\n",
    "    lasso = linear_model.Lasso()\n",
    "    lasso.set_params(alpha=i, tol = 0.01)\n",
    "    lasso.fit(X_train, y_train)\n",
    "lasso.coef_"
   ]
  },
  {
   "cell_type": "code",
   "execution_count": 23,
   "metadata": {},
   "outputs": [
    {
     "name": "stdout",
     "output_type": "stream",
     "text": [
      "Training set score: 0.90\n",
      "Test set score: 0.87\n",
      "Number of features used: 108\n"
     ]
    }
   ],
   "source": [
    "print(\"Training set score: {:.2f}\".format(lasso.score(X_train, y_train)))\n",
    "print(\"Test set score: {:.2f}\".format(lasso.score(X_test, y_test)))\n",
    "print(\"Number of features used: {}\".format(np.sum(lasso.coef_ != 0)))"
   ]
  },
  {
   "cell_type": "code",
   "execution_count": 24,
   "metadata": {},
   "outputs": [
    {
     "name": "stdout",
     "output_type": "stream",
     "text": [
      "Training set score: 0.90\n",
      "Test set score: 0.87\n",
      "Number of features used: 107\n"
     ]
    }
   ],
   "source": [
    "lasso001 = Lasso(alpha=i, max_iter=100000).fit(X_train, y_train)\n",
    "\n",
    "print(\"Training set score: {:.2f}\".format(lasso001.score(X_train, y_train)))\n",
    "print(\"Test set score: {:.2f}\".format(lasso001.score(X_test, y_test)))\n",
    "print(\"Number of features used: {}\".format(np.sum(lasso001.coef_ != 0)))"
   ]
  },
  {
   "cell_type": "code",
   "execution_count": null,
   "metadata": {},
   "outputs": [],
   "source": [
    "#test = np.logspace(-4, -1, 10)\n",
    "#alpha_settings = []\n",
    "#for i in test:\n",
    "#    alpha_settings.append(i)\n",
    "#alpha_settings\n"
   ]
  },
  {
   "cell_type": "code",
   "execution_count": 27,
   "metadata": {},
   "outputs": [
    {
     "data": {
      "text/plain": [
       "<matplotlib.legend.Legend at 0x14935442198>"
      ]
     },
     "execution_count": 27,
     "metadata": {},
     "output_type": "execute_result"
    },
    {
     "data": {
      "image/png": "[encoded data removed]",
      "text/plain": [
       "<Figure size 432x288 with 1 Axes>"
      ]
     },
     "metadata": {
      "needs_background": "light"
     },
     "output_type": "display_data"
    }
   ],
   "source": [
    "training_accuracy = []\n",
    "test_accuracy = []\n",
    "\n",
    "alpha_settings = [0.001, 0.01, 0.05, 0.1, 0.2, 0.3, 0.4, 0.5, 0.6, 0.7, 0.8, 0.9, 1.0, 2.0, 3.0, 4.0, 5.0, 6.0, 7.0, 8.0, 9.0, 10.0]\n",
    "\n",
    "for alpha in alpha_settings:\n",
    "    # build the model\n",
    "    lasso = Lasso(alpha=alpha, max_iter=10000000)\n",
    "    lasso.fit(X_train, y_train)\n",
    "    # record training accuracy\n",
    "    training_accuracy.append(lasso.score(X_train, y_train))\n",
    "    # record generalization accuracy\n",
    "    test_accuracy.append(lasso.score(X_test, y_test))\n",
    "\n",
    "plt.plot(np.log(np.array(alpha_settings)),\n",
    "         training_accuracy, label=\"training accuracy\")\n",
    "plt.plot(np.log(np.array(alpha_settings)),\n",
    "        test_accuracy, label=\"test accuracy\")\n",
    "plt.ylabel(\"Accuracy\")\n",
    "plt.xlabel(\"alpha logs\")\n",
    "plt.legend()"
   ]
  },
  {
   "cell_type": "code",
   "execution_count": null,
   "metadata": {},
   "outputs": [],
   "source": [
    "training_accuracy = []\n",
    "test_accuracy = []\n",
    "\n",
    "alpha_settings = [0.00001, 0.0001, 0.001, 0.01, 0.05, 0.1, 0.5, 1, 2, 4, 8, 10]\n",
    "\n",
    "for alpha in alpha_settings:\n",
    "    # build the model\n",
    "    lasso = Lasso(alpha=alpha, max_iter=10000000)\n",
    "    lasso.fit(X_train, y_train)\n",
    "    # record training accuracy\n",
    "    training_accuracy.append(lasso.score(X_train, y_train))\n",
    "    # record generalization accuracy\n",
    "    test_accuracy.append(lasso.score(X_test, y_test))\n",
    "\n",
    "plt.plot(np.log(np.array(alpha_settings)),\n",
    "         training_accuracy, label=\"training accuracy\")\n",
    "plt.plot(np.log(np.array(alpha_settings)),\n",
    "        test_accuracy, label=\"test accuracy\")\n",
    "plt.ylabel(\"Accuracy\")\n",
    "plt.xlabel(\"alpha logs\")\n",
    "plt.legend()"
   ]
  },
  {
   "cell_type": "code",
   "execution_count": null,
   "metadata": {},
   "outputs": [],
   "source": []
  }
 ],
 "metadata": {
  "kernelspec": {
   "display_name": "Python 3",
   "language": "python",
   "name": "python3"
  }
 },
 "nbformat": 4,
 "nbformat_minor": 2
}
